{
  "nbformat": 4,
  "nbformat_minor": 0,
  "metadata": {
    "colab": {
      "provenance": [],
      "include_colab_link": true
    },
    "kernelspec": {
      "name": "python3",
      "display_name": "Python 3"
    },
    "language_info": {
      "name": "python"
    }
  },
  "cells": [
    {
      "cell_type": "markdown",
      "metadata": {
        "id": "view-in-github",
        "colab_type": "text"
      },
      "source": [
        "<a href=\"https://colab.research.google.com/github/SumitSalunke2910/DSTT/blob/main/Assignment_1.ipynb\" target=\"_parent\"><img src=\"https://colab.research.google.com/assets/colab-badge.svg\" alt=\"Open In Colab\"/></a>"
      ]
    },
    {
      "cell_type": "markdown",
      "source": [
        "Name: Sumit Salunke    \n",
        "Reg no: 22-27-13"
      ],
      "metadata": {
        "id": "UdiO-iMGfcoF"
      }
    },
    {
      "cell_type": "markdown",
      "source": [
        "Q1.Given an array A of N numbers (int), WAP which prints the multiplication of the\n",
        "elements of array A with the corresponding elements of the reverse of array A.\n",
        "If A = [1,2,3], then reverse of A will be [3,2,1] and the result should be [3,4,3].\n",
        "Input Format:\n",
        "The first line of the input contains a number N The second line of the input contains\n",
        "N numbers separated by a space. (after the last elements, there is no space)\n",
        "Output Format:\n",
        "Print the resultant array of elements separated by a space. (no space after the last\n",
        "element)"
      ],
      "metadata": {
        "id": "6-FwceRqX8qj"
      }
    },
    {
      "cell_type": "code",
      "source": [
        "N=input(\"enter number of digits: \")\n",
        "L=list(map(int,input(\"Enter numbers separated by space:\" ).split()))\n",
        "\n",
        "def Multi_list(L):\n",
        "    Multi=[]\n",
        "    for i in range(len(L)):\n",
        "        Multi.append(L[i]*L[len(L)-i-1])\n",
        "    return Multi\n",
        "\n",
        "Multi_list(L)"
      ],
      "metadata": {
        "id": "pNiOlu2gX9g1"
      },
      "execution_count": null,
      "outputs": []
    },
    {
      "cell_type": "markdown",
      "source": [
        "Q.2 Given a list of numbers (integers), find second maximum and second minimum in this list. Input Format: The first line contains numbers separated by a space. Output Format: Print the second maximum and second minimum separated by a space"
      ],
      "metadata": {
        "id": "-CjywAbyYRhv"
      }
    },
    {
      "cell_type": "code",
      "source": [
        "l = [int(i) for i in input().split(\" \")]\n",
        "a = max(l)\n",
        "b = min(l)\n",
        "l1 = [i for i in l if i!= a]\n",
        "l2 = [i for i in l if i!= b]\n",
        "a1 = max(l1)\n",
        "b1 = min(l2)\n",
        "print(a1,b1)"
      ],
      "metadata": {
        "id": "1yjG8Sl9YUqu"
      },
      "execution_count": null,
      "outputs": []
    },
    {
      "cell_type": "markdown",
      "source": [
        "Q.3 Given a list A of numbers (integers), you have to print those numbers which are not multiples of 5. Input Format: The first line contains the numbers of list A separated by a space. Output Format: Print the numbers in a single line separated by a space which are not multiples of 5. Example: Input: 1 2 3 4 5 6 5 Output: 1 2 3 4 6 Explanation: Here the elements of A are 1,2,3,4,5,6,5 and since 5 is the multiple of 5, after removing them the list becomes 1,2,3,4,6."
      ],
      "metadata": {
        "id": "L6ZrxiDLYYFh"
      }
    },
    {
      "cell_type": "code",
      "source": [
        "A= list(map(int,input(\"enter numbers: \").split()))\n",
        "\n",
        "for x in A:\n",
        "    if x % 5 !=0:\n",
        "        print(f\"{x}\",end=\" \")"
      ],
      "metadata": {
        "id": "R0_ZWmGdYcWx"
      },
      "execution_count": null,
      "outputs": []
    },
    {
      "cell_type": "markdown",
      "source": [
        "Q.4 You are given a number A which contains only digits 0’s and 1’s. Your task is to\n",
        "make all digits same by just flipping one digit (i.e. 0 to 1 or 1 to 0 ) only. If it is\n",
        "possible to make all the digits same by just flipping one digit then print ’YES’ else\n",
        "print ’NO’.\n",
        "Input Format:\n",
        "The first line contains a number made up of 0’s and 1’s.\n",
        "Output Format:\n",
        "Print ’YES’ or ’NO’ accordingly without quotes.\n",
        "Example:\n",
        "Input:\n",
        "101\n",
        "Output:\n",
        "YES\n",
        "Explanation:\n",
        "If you flip the middle digit from 0 to 1 then all the digits will become same. Hence\n",
        "output is YES."
      ],
      "metadata": {
        "id": "v6IcYAMdYhAh"
      }
    },
    {
      "cell_type": "code",
      "source": [
        "n = input()\n",
        "a = n.count(\"1\")\n",
        "b = n.count(\"0\")\n",
        "if a == 1 or b==1:\n",
        "    print(\"YES\")\n",
        "else :\n",
        "    print(\"NO\")"
      ],
      "metadata": {
        "id": "sBmO_VmEYoka"
      },
      "execution_count": null,
      "outputs": []
    },
    {
      "cell_type": "markdown",
      "source": [
        "Q.5 Given an integer number n, you have to print the factorial of this number.\n",
        "Input Format:\n",
        "A number n.\n",
        "Output Format:\n",
        "Print the factorial of n.\n",
        "Example:\n",
        "Input:\n",
        "4\n",
        "Output:\n",
        "24"
      ],
      "metadata": {
        "id": "CLEzoeRZYuhT"
      }
    },
    {
      "cell_type": "code",
      "source": [
        "n = int(input())\n",
        "def fac(n):\n",
        "    if n<0 :\n",
        "        return 'Factorial not possible'\n",
        "    if n in [0, 1]:\n",
        "        return 1\n",
        "    else :\n",
        "        return n*fac(n-1)\n",
        "print(fac(n))"
      ],
      "metadata": {
        "id": "8k2adV7LY6Ry"
      },
      "execution_count": null,
      "outputs": []
    },
    {
      "cell_type": "markdown",
      "source": [
        "Q.6 Write a program, which will find all such numbers between m and n (both included)\n",
        "such that each digit of the number is an even number.\n",
        "Input Format:\n",
        "The first line contains value m and n separated by a comma.\n",
        "Output Format:\n",
        "The numbers obtained should be printed in a comma-separated sequence on a single\n",
        "line.\n",
        "Constraints:\n",
        "1000<=m<=9000\n",
        "1000<=n<=9000"
      ],
      "metadata": {
        "id": "mERPdxerZCqu"
      }
    },
    {
      "cell_type": "code",
      "source": [
        "l = [int(i) for i in input().split(\" \")]\n",
        "x = [\"0\", \"2\", \"4\", \"6\", \"8\"]\n",
        "d = []\n",
        "for a in range(l[0], l[1]+1):\n",
        "    b = str(a)\n",
        "    for i in range (len(b)):\n",
        "        if b[i] in x :\n",
        "            c = 1\n",
        "        else :\n",
        "            c= 0\n",
        "        if c ==0:\n",
        "            break\n",
        "    if c ==1:\n",
        "        d.append(a)\n",
        "print(*d, sep=\",\") "
      ],
      "metadata": {
        "id": "uoFxK4YBZG3_"
      },
      "execution_count": null,
      "outputs": []
    }
  ]
}